{
  "nbformat": 4,
  "nbformat_minor": 0,
  "metadata": {
    "colab": {
      "provenance": []
    },
    "kernelspec": {
      "name": "python3",
      "display_name": "Python 3"
    },
    "language_info": {
      "name": "python"
    }
  },
  "cells": [
    {
      "cell_type": "markdown",
      "source": [
        "# I. OOP"
      ],
      "metadata": {
        "id": "5qV_sehzFCTp"
      }
    },
    {
      "cell_type": "markdown",
      "source": [
        "1. (6б). Створіть клас Animal, додайте три атрибути, один з яких має значення за замовчуванням та два методи на свій розсуд."
      ],
      "metadata": {
        "id": "tx_U_hOALyfg"
      }
    },
    {
      "cell_type": "code",
      "source": [
        "class Animal:\n",
        "    def __init__(self, species, order, group=\"\"):\n",
        "        self.species = species\n",
        "        self.order = order\n",
        "        self.group = group\n",
        "\n",
        "    def get_species(self):\n",
        "        return self.species\n",
        "\n",
        "    def get_order(self):\n",
        "        return self.order\n",
        "\n",
        "    def group_name(self):\n",
        "        if self.group:\n",
        "            print(f\"{self.species} group is called {self.group}!\")\n",
        "        else:\n",
        "            print(f\"{self.species} group has no special name.\")\n"
      ],
      "metadata": {
        "id": "-Vf895KaL88N"
      },
      "execution_count": 12,
      "outputs": []
    },
    {
      "cell_type": "markdown",
      "source": [
        "2. (2б). Створіть два обʼєкти цього класу, де один з обʼєктів створюється із дефолтним значенням атрибуту. На одному обʼєкті отримайте значення його атрибуту, а на іншому викличте один з його методів."
      ],
      "metadata": {
        "id": "X_UlOMB0L93w"
      }
    },
    {
      "cell_type": "code",
      "source": [
        "class Animal:\n",
        "    def __init__(self, species, order, group=\"\"):\n",
        "        self.species = species\n",
        "        self.order = order\n",
        "        self.group = group\n",
        "\n",
        "    def get_species(self):\n",
        "        return self.species\n",
        "\n",
        "    def get_order(self):\n",
        "        return self.order\n",
        "\n",
        "    def group_name(self):\n",
        "        if self.group:\n",
        "            print(f\"{self.species} group is called {self.group}!\")\n",
        "        else:\n",
        "            print(f\"{self.species} group has no special name.\")\n",
        "\n",
        "animone = Animal(\"Panthera Leo\",\"Carnivora\",\"Pride\")\n",
        "animtwo = Animal(\"Lumbricus terrestris\",\"Opisthopora\")\n",
        "\n",
        "print(animone.order)\n",
        "\n",
        "animtwo.group_name()"
      ],
      "metadata": {
        "id": "7gBu0ESOMCpG",
        "colab": {
          "base_uri": "https://localhost:8080/"
        },
        "outputId": "dc07f8b1-cb6c-45d2-93c9-cd59f53b46a9"
      },
      "execution_count": 13,
      "outputs": [
        {
          "output_type": "stream",
          "name": "stdout",
          "text": [
            "Carnivora\n",
            "Lumbricus terrestris group has no special name.\n"
          ]
        }
      ]
    },
    {
      "cell_type": "markdown",
      "source": [
        "3. (5б). Створіть клас, де атрибути мають різні рівні доступу. Спробуйте отримати їхні значення та опишіть результати."
      ],
      "metadata": {
        "id": "HoqSCZt1MHn5"
      }
    },
    {
      "cell_type": "code",
      "source": [
        "class Person:\n",
        "    def __init__(self, name, surname):\n",
        "        self.__name = name  #private\n",
        "        self.surname = surname  #public\n",
        "\n",
        "    def get_name(self):\n",
        "        return self.__name\n",
        "\n",
        "person = Person(\"Rick\", \"Neelee\")\n",
        "\n",
        "\n",
        "print(person.surname)  #Neelee\n",
        "#print(person.__name)   # Виведе AttributeError: 'Person' object has no attribute '__name'\n",
        "print(person.get_name())  #Rick\n",
        "\n",
        "#__name оголошено як приватний атрибут, прямий доступ до якого заборонений, проте за допомогою публічного методу get_name ім'я можна отримати."
      ],
      "metadata": {
        "id": "r9b3vJxBMSPV",
        "colab": {
          "base_uri": "https://localhost:8080/"
        },
        "outputId": "c21eab1f-7646-4fd6-8cd2-aff99238837c"
      },
      "execution_count": 14,
      "outputs": [
        {
          "output_type": "stream",
          "name": "stdout",
          "text": [
            "Neelee\n",
            "Rick\n"
          ]
        }
      ]
    },
    {
      "cell_type": "markdown",
      "source": [
        "4. (7б). Як ви розумієте термін self? Для чого використовується метод __init __?"
      ],
      "metadata": {
        "id": "5op2m2vgMSkZ"
      }
    },
    {
      "cell_type": "markdown",
      "source": [
        "Термін self використовується в об'єктно-орієнтованому програмуванні для посилання на конкретний екземпляр класу, до якого викликаний метод. Він дозволяє отримувати доступ до атрибутів та методів цього об'єкту всередині методів класу.\n",
        "\n",
        "Метод init використовується для ініціалізації нового екземпляра класу.Він призначений для встановлення початкових значень атрибутів об'єкта та виконання інших необхідних дій для підготовки об'єкта до використання."
      ],
      "metadata": {
        "id": "DyiPqNRvMasx"
      }
    },
    {
      "cell_type": "markdown",
      "source": [
        "5. (9б). Створіть клас Фігура без атрибутів, з методом get_area для отримання площі фігури, що повертає 0 та __add __, який приймає self та other в якості аргументів, а повертає суму площин фігур self та other."
      ],
      "metadata": {
        "id": "-6X8EGfjMd2y"
      }
    },
    {
      "cell_type": "code",
      "source": [
        "class Figure:\n",
        "    def get_area(self):\n",
        "        return 0\n",
        "\n",
        "    def __add__(self, other):\n",
        "        return self.get_area() + other.get_area()"
      ],
      "metadata": {
        "id": "4rvO_wYUMaEr"
      },
      "execution_count": null,
      "outputs": []
    },
    {
      "cell_type": "markdown",
      "source": [
        "6. (11б). Створіть 2 дочірніх класи від Фігури: Трикутник та Коло, які мають атрибути, необхідні для розрахунку площин. Визначте метод get_area в кожному з них так, щоби вони розраховували площу в залежності від формули для кожного типу фігури. Створіть обʼєкт класу Трикутник та обʼєкт класу Коло. Виконайте операцію суми за допомогою оператора + між ними."
      ],
      "metadata": {
        "id": "SFcKnnv5Mo_z"
      }
    },
    {
      "cell_type": "code",
      "source": [
        "import math\n",
        "\n",
        "class Figure:\n",
        "    def get_area(self):\n",
        "        return 0\n",
        "\n",
        "    def __add__(self, other):\n",
        "        return self.get_area() + other.get_area()\n",
        "\n",
        "class Triangle(Figure):\n",
        "    def __init__(self, side_ab, side_bc, side_ac):\n",
        "        self.side_ab = side_ab\n",
        "        self.side_bc = side_bc\n",
        "        self.side_ac = side_ac\n",
        "\n",
        "    def get_area(self):\n",
        "        p = (self.side_ab + self.side_bc + self.side_ac) / 2\n",
        "        area = (p * (p - self.side_ab) * (p - self.side_bc) * (p - self.side_ac)) ** (0.5)\n",
        "        return area\n",
        "\n",
        "class Circle(Figure):\n",
        "    def __init__(self, radius):\n",
        "        self.radius = radius\n",
        "\n",
        "    def get_area(self):\n",
        "        return math.pi * (self.radius ** 2)\n",
        "\n",
        "triangle1 = Triangle(3,4,5)\n",
        "circle1 = Circle(1.78412412)\n",
        "\n",
        "area_of_figures = triangle1 + circle1\n",
        "print(\"Figures' area sum:\", area_of_figures)"
      ],
      "metadata": {
        "id": "H3GVNr69Muf3",
        "colab": {
          "base_uri": "https://localhost:8080/"
        },
        "outputId": "a2d087aa-8944-4ba8-84a2-33b597649720"
      },
      "execution_count": 15,
      "outputs": [
        {
          "output_type": "stream",
          "name": "stdout",
          "text": [
            "Figures' area sum: 16.00000004312737\n"
          ]
        }
      ]
    },
    {
      "cell_type": "markdown",
      "source": [
        "7. (3б). Продемонструйте різницю між isinstance та issubclass."
      ],
      "metadata": {
        "id": "HCvR206YMvLK"
      }
    },
    {
      "cell_type": "code",
      "source": [
        "import math\n",
        "\n",
        "class Figure:\n",
        "    def get_area(self):\n",
        "        return 0\n",
        "\n",
        "    def __add__(self, other):\n",
        "        return self.get_area() + other.get_area()\n",
        "\n",
        "class Triangle(Figure):\n",
        "    def __init__(self, side_ab, side_bc, side_ac):\n",
        "        self.side_ab = side_ab\n",
        "        self.side_bc = side_bc\n",
        "        self.side_ac = side_ac\n",
        "\n",
        "    def get_area(self):\n",
        "        p = (self.side_ab + self.side_bc + self.side_ac) / 2\n",
        "        area = (p * (p - self.side_ab) * (p - self.side_bc) * (p - self.side_ac)) ** (0.5)\n",
        "        return area\n",
        "\n",
        "class Circle(Figure):\n",
        "    def __init__(self, radius):\n",
        "        self.radius = radius\n",
        "\n",
        "    def get_area(self):\n",
        "        return math.pi * (self.radius ** 2)\n",
        "\n",
        "triangle1 = Triangle(3,4,5)\n",
        "circle1 = Circle(1.78412412)\n",
        "\n",
        "print(isinstance(triangle1,Triangle))\n",
        "print(isinstance(circle1,Circle))\n",
        "print(isinstance(triangle1,Figure))\n",
        "\n",
        "print(issubclass(Circle,Figure))\n",
        "print(issubclass(Figure,Circle))\n",
        "\n",
        "#Суть isinstance і issubclass полягає в тому, щоб перевірити, чи є об'єкт екземпляром певного класу чи є клас підкласом іншого класу відповідно."
      ],
      "metadata": {
        "id": "L_V1bBvDM0GN",
        "colab": {
          "base_uri": "https://localhost:8080/"
        },
        "outputId": "ef034507-f592-4fb2-bed7-c46a83ee8e3a"
      },
      "execution_count": null,
      "outputs": [
        {
          "output_type": "stream",
          "name": "stdout",
          "text": [
            "True\n",
            "True\n",
            "True\n",
            "True\n",
            "False\n"
          ]
        }
      ]
    },
    {
      "cell_type": "markdown",
      "source": [
        "8. (13б). Створіть клас BankAccount з приватними атрибутами balance та account_number. Реалізуйте методи поповнення та зняття коштів, забезпечивши належну інкапсуляцію. Підказка: використовуйте декоратори property та setter."
      ],
      "metadata": {
        "id": "jjsaBZ-iM0Qq"
      }
    },
    {
      "cell_type": "code",
      "source": [
        "class BankAccount:\n",
        "    def __init__(self, account_number, initial_balance=0):\n",
        "        self._account_number = account_number\n",
        "        self._balance = initial_balance\n",
        "\n",
        "    @property\n",
        "    def account_number(self):\n",
        "        return self._account_number\n",
        "\n",
        "    @property\n",
        "    def balance(self):\n",
        "        return self._balance\n",
        "\n",
        "    @balance.setter\n",
        "    def balance(self, new_balance):\n",
        "        if new_balance >= 0:\n",
        "            self._balance = new_balance\n",
        "        else:\n",
        "            print(\"Can't setup that amount of money.\")\n",
        "\n",
        "    def replenish(self, amount):\n",
        "        if amount > 0:\n",
        "            self.balance += amount\n",
        "            print(f\"Balance successfully replenished by {amount} UAH, balance: {self.balance} UAH.\")\n",
        "        else:\n",
        "            print(\"Can't replenish by that amount of money.\")\n",
        "\n",
        "    def takeout(self, amount):\n",
        "        if 0 < amount <= self.balance:\n",
        "            self.balance -= amount\n",
        "            print(f\"Succesfully taken out {amount} UAH, balance: {self.balance} UAH.\")\n",
        "        else:\n",
        "            print(\"Haven't got that much money or inadequate amount of money.\")\n",
        "\n",
        "acc = BankAccount(\"333\", 1000)\n",
        "print(\"Number:\", acc.account_number)\n",
        "print(\"Balance:\", acc.balance)\n",
        "\n",
        "acc.replenish(333)\n",
        "acc.takeout(666)\n",
        "acc.balance = -333  #так не можна змінити\n",
        "\n"
      ],
      "metadata": {
        "id": "xCvZ7lh8M7YA",
        "colab": {
          "base_uri": "https://localhost:8080/"
        },
        "outputId": "ffd3061b-7f35-4ad1-d8ed-3f7c7c99cbf8"
      },
      "execution_count": 16,
      "outputs": [
        {
          "output_type": "stream",
          "name": "stdout",
          "text": [
            "Number: 333\n",
            "Balance: 1000\n",
            "Balance successfully replenished by 333 UAH, balance: 1333 UAH.\n",
            "Succesfully taken out 666 UAH, balance: 667 UAH.\n",
            "Can't setup that amount of money.\n"
          ]
        }
      ]
    },
    {
      "cell_type": "markdown",
      "source": [
        "9. (11б). Створіть клас Library, який містить список об'єктів типу Book. Реалізуйте методи для додавання книги, видалення книги та відображення списку книг."
      ],
      "metadata": {
        "id": "tIzL2SJTM8ft"
      }
    },
    {
      "cell_type": "code",
      "source": [
        "class Book:\n",
        "    def __init__(self, title, author):\n",
        "        self.title = title\n",
        "        self.author = author\n",
        "\n",
        "class Library:\n",
        "    def __init__(self):\n",
        "        self.books = []\n",
        "\n",
        "    def add_book(self, book):\n",
        "        if isinstance(book, Book):\n",
        "            self.books.append(book)\n",
        "            print(f\"'{book.title}' was added.\")\n",
        "        else:\n",
        "            print(\"Can't add.\")\n",
        "\n",
        "    def remove_book(self, title):\n",
        "        for book in self.books:\n",
        "            if book.title == title:\n",
        "                self.books.remove(book)\n",
        "                print(f\"'{title}' was removed.\")\n",
        "                return\n",
        "        print(f\"'{title}' is not in the library\")\n",
        "\n",
        "    def display_books(self):\n",
        "        if self.books:\n",
        "            print(\"Book list::\")\n",
        "            for i, book in enumerate(self.books, start=1):\n",
        "                print(f\"{i}. '{book.title}' by {book.author}\")\n",
        "        else:\n",
        "            print(\"No books in the library\")\n",
        "\n",
        "\n",
        "library = Library()\n",
        "\n",
        "library.add_book(Book(\"Fourth Closet\", \"Scott Cawthon\"))\n",
        "library.add_book(Book(\"Games People Play\", \"Eric Bern\"))\n",
        "library.add_book(Book(\"Kobzar\", \"Taras H. Shevchenko\"))\n",
        "print(\"-------------\")\n",
        "library.display_books()\n",
        "print(\"-------------\")\n",
        "library.remove_book(\"Games People Play\")\n",
        "print(\"-------------\")\n",
        "library.display_books()\n"
      ],
      "metadata": {
        "id": "HWxfJKLtNAUZ",
        "colab": {
          "base_uri": "https://localhost:8080/"
        },
        "outputId": "4746d733-1ac5-4851-cedf-bcedfd3517c8"
      },
      "execution_count": null,
      "outputs": [
        {
          "output_type": "stream",
          "name": "stdout",
          "text": [
            "'Fourth Closet' was added.\n",
            "'Games People Play' was added.\n",
            "'Kobzar' was added.\n",
            "-------------\n",
            "Book list::\n",
            "1. 'Fourth Closet' by Scott Cawthon\n",
            "2. 'Games People Play' by Eric Bern\n",
            "3. 'Kobzar' by Taras H. Shevchenko\n",
            "-------------\n",
            "'Games People Play' was removed.\n",
            "-------------\n",
            "Book list::\n",
            "1. 'Fourth Closet' by Scott Cawthon\n",
            "2. 'Kobzar' by Taras H. Shevchenko\n"
          ]
        }
      ]
    },
    {
      "cell_type": "markdown",
      "source": [
        "10. (13б). Створіть клас Person з атрибутами name та age. Створіть ще один клас Employee з такими атрибутами, як department та salary. Створіть клас Manager, який успадковує обидва класи Person та Employee. Продемонструйте використання множинної спадковості, створивши обʼєкт класу Manager та отримавши mro для цього класу."
      ],
      "metadata": {
        "id": "lmV8pAwwNIqu"
      }
    },
    {
      "cell_type": "code",
      "source": [
        "class Person:\n",
        "    def __init__(self, name, age):\n",
        "        self.name = name\n",
        "        self.age = age\n",
        "\n",
        "class Employee:\n",
        "    def __init__(self, department, salary):\n",
        "        self.department = department\n",
        "        self.salary = salary\n",
        "\n",
        "class Manager(Person, Employee):\n",
        "    def __init__(self, name, age, department, salary):\n",
        "        Person.__init__(self, name, age)\n",
        "        Employee.__init__(self, department, salary)\n",
        "\n",
        "manager1 = Manager(\"Rick Neelee\", 21 , \"Sales\", 333333 )\n",
        "print(Manager.mro())\n"
      ],
      "metadata": {
        "id": "R49grKlWNPeN",
        "colab": {
          "base_uri": "https://localhost:8080/"
        },
        "outputId": "129cc498-3e32-4252-ce5c-0f4a79685d84"
      },
      "execution_count": 17,
      "outputs": [
        {
          "output_type": "stream",
          "name": "stdout",
          "text": [
            "[<class '__main__.Manager'>, <class '__main__.Person'>, <class '__main__.Employee'>, <class 'object'>]\n"
          ]
        }
      ]
    },
    {
      "cell_type": "markdown",
      "source": [
        "# II. Iterator"
      ],
      "metadata": {
        "id": "dIJyUiNBFG8G"
      }
    },
    {
      "cell_type": "markdown",
      "source": [
        "11. (4б). Визначте рядок(str) з 4ма різними за значенням символами. Створіть ітератор на основі цього рядка. Викличте 5 разів функцію next на ітераторі, 4ри перших з них огорніть у ф-цію print()."
      ],
      "metadata": {
        "id": "13vsm0NyKIzL"
      }
    },
    {
      "cell_type": "code",
      "source": [
        "str1 = \"rick\"\n",
        "iter1 = iter(str1)\n",
        "\n",
        "for i in range(5):\n",
        "    nextv = next(iter1)\n",
        "    if i < 4:\n",
        "        print(nextv)\n",
        "\n",
        "#Буде помилка, оскільки ми викликаємо ітератор 5 разів на 4-символьному рядку"
      ],
      "metadata": {
        "id": "81ntabAkKuz-",
        "colab": {
          "base_uri": "https://localhost:8080/",
          "height": 280
        },
        "outputId": "d79c5c55-a33f-467d-d28a-a5c4ca85290a"
      },
      "execution_count": 3,
      "outputs": [
        {
          "output_type": "stream",
          "name": "stdout",
          "text": [
            "r\n",
            "i\n",
            "c\n",
            "k\n"
          ]
        },
        {
          "output_type": "error",
          "ename": "StopIteration",
          "evalue": "",
          "traceback": [
            "\u001b[0;31m---------------------------------------------------------------------------\u001b[0m",
            "\u001b[0;31mStopIteration\u001b[0m                             Traceback (most recent call last)",
            "\u001b[0;32m<ipython-input-3-bc8bdb741f57>\u001b[0m in \u001b[0;36m<cell line: 4>\u001b[0;34m()\u001b[0m\n\u001b[1;32m      3\u001b[0m \u001b[0;34m\u001b[0m\u001b[0m\n\u001b[1;32m      4\u001b[0m \u001b[0;32mfor\u001b[0m \u001b[0mi\u001b[0m \u001b[0;32min\u001b[0m \u001b[0mrange\u001b[0m\u001b[0;34m(\u001b[0m\u001b[0;36m5\u001b[0m\u001b[0;34m)\u001b[0m\u001b[0;34m:\u001b[0m\u001b[0;34m\u001b[0m\u001b[0;34m\u001b[0m\u001b[0m\n\u001b[0;32m----> 5\u001b[0;31m     \u001b[0mnextv\u001b[0m \u001b[0;34m=\u001b[0m \u001b[0mnext\u001b[0m\u001b[0;34m(\u001b[0m\u001b[0miter1\u001b[0m\u001b[0;34m)\u001b[0m\u001b[0;34m\u001b[0m\u001b[0;34m\u001b[0m\u001b[0m\n\u001b[0m\u001b[1;32m      6\u001b[0m     \u001b[0;32mif\u001b[0m \u001b[0mi\u001b[0m \u001b[0;34m<\u001b[0m \u001b[0;36m4\u001b[0m\u001b[0;34m:\u001b[0m\u001b[0;34m\u001b[0m\u001b[0;34m\u001b[0m\u001b[0m\n\u001b[1;32m      7\u001b[0m         \u001b[0mprint\u001b[0m\u001b[0;34m(\u001b[0m\u001b[0mnextv\u001b[0m\u001b[0;34m)\u001b[0m\u001b[0;34m\u001b[0m\u001b[0;34m\u001b[0m\u001b[0m\n",
            "\u001b[0;31mStopIteration\u001b[0m: "
          ]
        }
      ]
    },
    {
      "cell_type": "markdown",
      "source": [
        "А що якщо викликати цю ж функцію на рядку?"
      ],
      "metadata": {
        "id": "aekWHGXOLRsO"
      }
    },
    {
      "cell_type": "code",
      "source": [
        "str1 = \"rick\"\n",
        "nextv = next(str1)\n",
        "print(nextv)\n",
        "\n",
        "#Буде помилка, оскільки функція next вимагає ітерабельного об'єкту, а рядок не є таким"
      ],
      "metadata": {
        "id": "mxATGsErLV1i",
        "colab": {
          "base_uri": "https://localhost:8080/",
          "height": 176
        },
        "outputId": "024ad1ed-a3ef-4d1f-8c01-08171b123810"
      },
      "execution_count": 2,
      "outputs": [
        {
          "output_type": "error",
          "ename": "TypeError",
          "evalue": "'str' object is not an iterator",
          "traceback": [
            "\u001b[0;31m---------------------------------------------------------------------------\u001b[0m",
            "\u001b[0;31mTypeError\u001b[0m                                 Traceback (most recent call last)",
            "\u001b[0;32m<ipython-input-2-2328048ad44e>\u001b[0m in \u001b[0;36m<cell line: 2>\u001b[0;34m()\u001b[0m\n\u001b[1;32m      1\u001b[0m \u001b[0mstr1\u001b[0m \u001b[0;34m=\u001b[0m \u001b[0;34m\"rick\"\u001b[0m\u001b[0;34m\u001b[0m\u001b[0;34m\u001b[0m\u001b[0m\n\u001b[0;32m----> 2\u001b[0;31m \u001b[0mnextv\u001b[0m \u001b[0;34m=\u001b[0m \u001b[0mnext\u001b[0m\u001b[0;34m(\u001b[0m\u001b[0mstr1\u001b[0m\u001b[0;34m)\u001b[0m\u001b[0;34m\u001b[0m\u001b[0;34m\u001b[0m\u001b[0m\n\u001b[0m\u001b[1;32m      3\u001b[0m \u001b[0mprint\u001b[0m\u001b[0;34m(\u001b[0m\u001b[0mnextv\u001b[0m\u001b[0;34m)\u001b[0m\u001b[0;34m\u001b[0m\u001b[0;34m\u001b[0m\u001b[0m\n",
            "\u001b[0;31mTypeError\u001b[0m: 'str' object is not an iterator"
          ]
        }
      ]
    },
    {
      "cell_type": "markdown",
      "source": [
        " 12. (5б). Опишіть своїми словами в одному реченні, як ви розумієте різницю між ітерабельними обʼєктами та ітераторами (можна на прикладі)."
      ],
      "metadata": {
        "id": "XwtMEopwJ4pH"
      }
    },
    {
      "cell_type": "markdown",
      "source": [
        "Ітерабельний об'єкт - це об'єкт, який можна перебирати поелементно, тоді як ітератор - це об'єкт, який вказує на конкретний елемент у послідовності та дозволяє послідовно отримувати наступні елементи цієї послідовності."
      ],
      "metadata": {
        "id": "-sHrODc3KFn8"
      }
    },
    {
      "cell_type": "markdown",
      "source": [
        "13. (11б). Створіть клас, що має визначений Iterator Protocol та при кожному виклику next повертає літери англійської абетки, поки вони не вичерпаються."
      ],
      "metadata": {
        "id": "E9qJWmNbK8Gl"
      }
    },
    {
      "cell_type": "code",
      "source": [
        "class Letters:\n",
        "    def __iter__(self):\n",
        "        self.curr = ord('A')\n",
        "        return self\n",
        "\n",
        "    def __next__(self):\n",
        "        if self.curr <= ord('Z'):\n",
        "            nextlet = chr(self.curr)\n",
        "            self.curr += 1\n",
        "            return nextlet\n",
        "        else:\n",
        "            raise StopIteration\n",
        "\n",
        "iter1 = Letters()\n",
        "\n",
        "for lett in iter1:\n",
        "    print(lett)\n"
      ],
      "metadata": {
        "id": "cqx-g_RsLo6I",
        "colab": {
          "base_uri": "https://localhost:8080/"
        },
        "outputId": "3582ce7e-03ce-4e10-8402-44768379d0ad"
      },
      "execution_count": 11,
      "outputs": [
        {
          "output_type": "stream",
          "name": "stdout",
          "text": [
            "A\n",
            "B\n",
            "C\n",
            "D\n",
            "E\n",
            "F\n",
            "G\n",
            "H\n",
            "I\n",
            "J\n",
            "K\n",
            "L\n",
            "M\n",
            "N\n",
            "O\n",
            "P\n",
            "Q\n",
            "R\n",
            "S\n",
            "T\n",
            "U\n",
            "V\n",
            "W\n",
            "X\n",
            "Y\n",
            "Z\n"
          ]
        }
      ]
    },
    {
      "cell_type": "markdown",
      "source": [
        "# Вітаю! Ви велика(ий) молодець, що впоралась(вся). Похваліть себе та побалуйте чимось приємним. Я Вами пишаюся."
      ],
      "metadata": {
        "id": "Z3E3S_s1Fv7-"
      }
    }
  ]
}