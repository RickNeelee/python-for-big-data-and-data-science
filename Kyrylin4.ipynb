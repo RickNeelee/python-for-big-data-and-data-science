{
  "nbformat": 4,
  "nbformat_minor": 0,
  "metadata": {
    "colab": {
      "provenance": []
    },
    "kernelspec": {
      "name": "python3",
      "display_name": "Python 3"
    },
    "language_info": {
      "name": "python"
    }
  },
  "cells": [
    {
      "cell_type": "markdown",
      "source": [
        "# I. Functions. Arguments."
      ],
      "metadata": {
        "id": "kXpppdVm6wFy"
      }
    },
    {
      "cell_type": "markdown",
      "source": [
        "1. (5б) Назвіть основні 4 смислові  частини, з яких складається функція."
      ],
      "metadata": {
        "id": "u_krJdlbAkVz"
      }
    },
    {
      "cell_type": "markdown",
      "source": [
        "1. Назва фукнції;\n",
        "2. Параметри/аргументи, що передаються в саму функцію;\n",
        "3. Тіло функції (частина коду, що описує, що саме виконує функція);\n",
        "4. Поверненні значення (результат виконання функції);"
      ],
      "metadata": {
        "id": "KKTrTXmHAptb"
      }
    },
    {
      "cell_type": "markdown",
      "source": [
        "2. (3б) Визначте функцію, що приймає 2 аргументи та повертає результат ділення 1го аргумента на інший."
      ],
      "metadata": {
        "id": "ORM4PqJQAtDM"
      }
    },
    {
      "cell_type": "code",
      "execution_count": 60,
      "metadata": {
        "id": "EuDx-z8M6sLo",
        "colab": {
          "base_uri": "https://localhost:8080/"
        },
        "outputId": "7c41b973-f869-4c7e-8c89-bf98dce1f1d8"
      },
      "outputs": [
        {
          "output_type": "stream",
          "name": "stdout",
          "text": [
            "Dividing the first number by the second:  13.0\n"
          ]
        }
      ],
      "source": [
        "def divide_two(first,second):\n",
        "    return first/second\n",
        "\n",
        "one = 39\n",
        "two = 3\n",
        "print(\"Dividing the first number by the second: \", divide_two(one,two))"
      ]
    },
    {
      "cell_type": "markdown",
      "source": [
        "3. (2б) Викличте вище визначену функцію, де другий аргумент дорівнює 0."
      ],
      "metadata": {
        "id": "5joQGQ-SAyMe"
      }
    },
    {
      "cell_type": "code",
      "source": [
        "def divide_two(first,second):\n",
        "    return first/second\n",
        "\n",
        "one = 39\n",
        "two = 0\n",
        "print(\"Dividing the first number by the second: \", divide_two(one,two))\n",
        "#Повертає ZeroDivisionError: division by zero"
      ],
      "metadata": {
        "id": "V5cBV1LOA3d-",
        "colab": {
          "base_uri": "https://localhost:8080/",
          "height": 315
        },
        "outputId": "831220c7-5caf-461a-ac0e-8ac5f64f2310"
      },
      "execution_count": 7,
      "outputs": [
        {
          "output_type": "error",
          "ename": "ZeroDivisionError",
          "evalue": "division by zero",
          "traceback": [
            "\u001b[0;31m---------------------------------------------------------------------------\u001b[0m",
            "\u001b[0;31mZeroDivisionError\u001b[0m                         Traceback (most recent call last)",
            "\u001b[0;32m<ipython-input-7-0f8f07a5125d>\u001b[0m in \u001b[0;36m<cell line: 6>\u001b[0;34m()\u001b[0m\n\u001b[1;32m      4\u001b[0m \u001b[0mone\u001b[0m \u001b[0;34m=\u001b[0m \u001b[0;36m39\u001b[0m\u001b[0;34m\u001b[0m\u001b[0;34m\u001b[0m\u001b[0m\n\u001b[1;32m      5\u001b[0m \u001b[0mtwo\u001b[0m \u001b[0;34m=\u001b[0m \u001b[0;36m0\u001b[0m\u001b[0;34m\u001b[0m\u001b[0;34m\u001b[0m\u001b[0m\n\u001b[0;32m----> 6\u001b[0;31m \u001b[0mprint\u001b[0m\u001b[0;34m(\u001b[0m\u001b[0;34m\"Dividing the first number by the second: \"\u001b[0m\u001b[0;34m,\u001b[0m \u001b[0mdivide_two\u001b[0m\u001b[0;34m(\u001b[0m\u001b[0mone\u001b[0m\u001b[0;34m,\u001b[0m\u001b[0mtwo\u001b[0m\u001b[0;34m)\u001b[0m\u001b[0;34m)\u001b[0m\u001b[0;34m\u001b[0m\u001b[0;34m\u001b[0m\u001b[0m\n\u001b[0m\u001b[1;32m      7\u001b[0m \u001b[0;31m#Повертає ZeroDivisionError: division by zero\u001b[0m\u001b[0;34m\u001b[0m\u001b[0;34m\u001b[0m\u001b[0m\n",
            "\u001b[0;32m<ipython-input-7-0f8f07a5125d>\u001b[0m in \u001b[0;36mdivide_two\u001b[0;34m(first, second)\u001b[0m\n\u001b[1;32m      1\u001b[0m \u001b[0;32mdef\u001b[0m \u001b[0mdivide_two\u001b[0m\u001b[0;34m(\u001b[0m\u001b[0mfirst\u001b[0m\u001b[0;34m,\u001b[0m\u001b[0msecond\u001b[0m\u001b[0;34m)\u001b[0m\u001b[0;34m:\u001b[0m\u001b[0;34m\u001b[0m\u001b[0;34m\u001b[0m\u001b[0m\n\u001b[0;32m----> 2\u001b[0;31m     \u001b[0;32mreturn\u001b[0m \u001b[0mfirst\u001b[0m\u001b[0;34m/\u001b[0m\u001b[0msecond\u001b[0m\u001b[0;34m\u001b[0m\u001b[0;34m\u001b[0m\u001b[0m\n\u001b[0m\u001b[1;32m      3\u001b[0m \u001b[0;34m\u001b[0m\u001b[0m\n\u001b[1;32m      4\u001b[0m \u001b[0mone\u001b[0m \u001b[0;34m=\u001b[0m \u001b[0;36m39\u001b[0m\u001b[0;34m\u001b[0m\u001b[0;34m\u001b[0m\u001b[0m\n\u001b[1;32m      5\u001b[0m \u001b[0mtwo\u001b[0m \u001b[0;34m=\u001b[0m \u001b[0;36m0\u001b[0m\u001b[0;34m\u001b[0m\u001b[0;34m\u001b[0m\u001b[0m\n",
            "\u001b[0;31mZeroDivisionError\u001b[0m: division by zero"
          ]
        }
      ]
    },
    {
      "cell_type": "markdown",
      "source": [
        "4. (4б) Перевизначте функцію так, щоби у випадку ділення на 0 функція повертала None, а в решті випадків - результат розрахунків."
      ],
      "metadata": {
        "id": "QyimWgW8A43-"
      }
    },
    {
      "cell_type": "code",
      "source": [
        "def divide_two(first,second):\n",
        "  if second == 0:\n",
        "    print(\"You can't divide by zero!\")\n",
        "    return\n",
        "  else:\n",
        "    return first/second\n",
        "\n",
        "one = 39\n",
        "two = 0\n",
        "print(\"Dividing the first number by the second: \", divide_two(one,two))"
      ],
      "metadata": {
        "id": "7VIODtSjA8Ek",
        "colab": {
          "base_uri": "https://localhost:8080/"
        },
        "outputId": "9b88647e-8711-4d9b-d421-c6384888e2af"
      },
      "execution_count": 61,
      "outputs": [
        {
          "output_type": "stream",
          "name": "stdout",
          "text": [
            "You can't divide by zero!\n",
            "Dividing the first number by the second:  None\n"
          ]
        }
      ]
    },
    {
      "cell_type": "markdown",
      "source": [
        "5. (5б) Визначте функцію, що віднімає одне число від іншого (підказка: це буде 2 аргументи функції). При чому, якщо не визначити, скільки саме має бути віднято від числа, за замовчуванням має відніматися 1. Викличте функцію, передаючи тільки один аргумент."
      ],
      "metadata": {
        "id": "Y8mN0GfkA81l"
      }
    },
    {
      "cell_type": "code",
      "source": [
        "def sub_two(first, second = 1):\n",
        "  return first-second\n",
        "\n",
        "one = 350\n",
        "two = 17\n",
        "\n",
        "print(\"Calling a function with one argument (must be first number minus 1): \", sub_two(one))\n",
        "print(\"Calling a function with two arguments: \", sub_two(one,two))"
      ],
      "metadata": {
        "id": "vg1kxkdgBA50",
        "colab": {
          "base_uri": "https://localhost:8080/"
        },
        "outputId": "e1117e25-1b51-4c41-cf89-4a3b44151c0c"
      },
      "execution_count": 62,
      "outputs": [
        {
          "output_type": "stream",
          "name": "stdout",
          "text": [
            "Calling a function with one argument (must be first number minus 1):  349\n",
            "Calling a function with two arguments:  333\n"
          ]
        }
      ]
    },
    {
      "cell_type": "markdown",
      "source": [
        "6. (7б) Визначте функцію, яка приймає iterable (ітерабельний обʼєкт, напр. список), що складається з 7ми рядкових значень - назв погодних умов (напр. \"sunny\") за кожен день у тижні. Повертає функція словник, де ключами є рядки з погодними умовами, а значеннями - кількість разів, скільки дана погода була протягом тижня (напр. {'sunny': 1, ...}). Викличте цю функцію та виведіть результат її роботи на екран."
      ],
      "metadata": {
        "id": "D3mwQGNOBBs4"
      }
    },
    {
      "cell_type": "code",
      "source": [
        "def weather_count(weather_types):\n",
        "\n",
        "  if len(weather_types) != 7:\n",
        "    print(\"There must be 7 weather types in the list!\")\n",
        "    return\n",
        "\n",
        "  count = {}\n",
        "\n",
        "  for type in weather_types:\n",
        "    if type in count:\n",
        "      count[type] += 1\n",
        "    else:\n",
        "      count[type] = 1\n",
        "\n",
        "  return count\n",
        "\n",
        "types = [\"sunny\",\"rainy\",\"cloudy\",\"sunny\",\"sunny\",\"stormy\",\"rainy\"]\n",
        "print(\"Count of every type of weather: \", weather_count(types))"
      ],
      "metadata": {
        "id": "OsWm-hKcBFyn",
        "colab": {
          "base_uri": "https://localhost:8080/"
        },
        "outputId": "a001b8fd-96a5-46a0-e458-16314c108e46"
      },
      "execution_count": 63,
      "outputs": [
        {
          "output_type": "stream",
          "name": "stdout",
          "text": [
            "Count of every type of weather:  {'sunny': 3, 'rainy': 2, 'cloudy': 1, 'stormy': 1}\n"
          ]
        }
      ]
    },
    {
      "cell_type": "markdown",
      "source": [
        "7. (15б) Напишіть програму, яка б шукала необхідне число у впорядкованому списку цілочислених значень, де\n",
        "число має вводитись з консолі.\n",
        "власне алгоритм пошуку винесений в окрему функцію, яка повертає булеве значення (знайдено число - True, не знайдено - False).\n",
        "в залежності від результату функції, виведіть на екран повідомлення про успішний або ж неуспішний пошук.\n",
        "Зауваження: використовувати оператор in заборонено."
      ],
      "metadata": {
        "id": "RMiCcdOsBKQT"
      }
    },
    {
      "cell_type": "code",
      "source": [
        "def finding_num(num,num_list):\n",
        "\n",
        "  if len(num_list) == 0:\n",
        "    print(\"The list is empty!\")\n",
        "    return False\n",
        "\n",
        "  for i in range(1, len(num_list)):\n",
        "        if num_list[i] < num_list[i - 1]:\n",
        "            print(\"The list is not ordered!\")\n",
        "            return\n",
        "\n",
        "  pred = 0\n",
        "  succ = len(num_list)-1\n",
        "\n",
        "  while pred <= succ:\n",
        "    curr = ( pred + succ ) // 2\n",
        "\n",
        "    if num_list[curr] < num:\n",
        "      pred = curr + 1\n",
        "    elif num_list[curr] > num:\n",
        "      succ = curr - 1\n",
        "    else:\n",
        "      return True\n",
        "\n",
        "  return False\n",
        "\n",
        "\n",
        "n = 333\n",
        "numlist = [111,222,333,444,555,666,777,888,999]\n",
        "print(\"1. Availability of element in the list:\",finding_num(n,numlist))\n",
        "numlist = [111,222,444,555,666,777,888,999]\n",
        "print(\"2. Availability of element in the list:\",finding_num(n,numlist))\n",
        "numlist = []\n",
        "print(\"3. Availability of element in the list:\",finding_num(n,numlist))\n",
        "numlist = [1,2,5,3,4]\n",
        "print(\"4. Availability of element in the list:\",finding_num(n,numlist))"
      ],
      "metadata": {
        "id": "UNCZg65OBOy-",
        "colab": {
          "base_uri": "https://localhost:8080/"
        },
        "outputId": "0138a6e7-fc9f-4b11-fbc5-32f4021696ff"
      },
      "execution_count": 69,
      "outputs": [
        {
          "output_type": "stream",
          "name": "stdout",
          "text": [
            "1. Availability of element in the list: True\n",
            "2. Availability of element in the list: False\n",
            "The list is empty!\n",
            "3. Availability of element in the list: False\n",
            "The list is not ordered!\n",
            "4. Availability of element in the list: None\n"
          ]
        }
      ]
    },
    {
      "cell_type": "markdown",
      "source": [
        "# II. Lambda functions."
      ],
      "metadata": {
        "id": "Ae1n_OvLBTsy"
      }
    },
    {
      "cell_type": "markdown",
      "source": [
        "8. (4б) В яких випадках варто використовувати лямбда-функції?"
      ],
      "metadata": {
        "id": "xaD_wSlaCWen"
      }
    },
    {
      "cell_type": "markdown",
      "source": [
        "Лямбда-функції використовуються коли потрібна функція на короткий період часу: коли треба використати функцію лише один раз або під час визначення функції в іншій функції. Лямбда-функції часто використовуються з такими функціями вищого порядку, як map(), filter() і reduce(), а також в ключових параметрах таких функцій, як sorted(), min(), max() тощо, де потрібно відсортувати або знайти певний елемент."
      ],
      "metadata": {
        "id": "42MB6OoLCakR"
      }
    },
    {
      "cell_type": "markdown",
      "source": [
        "9. (9б) Визначте список з рядками. Після цього визначте анонімну функцію для отримання першого символу у верхньому регістрі для кожного рядка списку.\n",
        "Підказка: використовуйте анонімну функцію в якості агрумента до вбудованої ф-ції, яка створена для застосування функцій над iterable обʼєктами. Результат виведіть на екран у вигляді кортежу."
      ],
      "metadata": {
        "id": "USrzrk7GCedk"
      }
    },
    {
      "cell_type": "code",
      "source": [
        "some_list = [\"suburb\",\"land\",\"arrow\",\"yehor\",\"antonym\",\"layout\",\"longer\",\"dawn\",\"attribute\",\"yoghurt\"]\n",
        "\n",
        "list_upper = tuple(map(lambda ch: ch[0].upper(), some_list))\n",
        "\n",
        "print(\"The first character of each string:\", list_upper)"
      ],
      "metadata": {
        "id": "M8QWUsMlCjWH",
        "colab": {
          "base_uri": "https://localhost:8080/"
        },
        "outputId": "bb5dd3f7-f73e-429d-ccfb-82e74639f3dd"
      },
      "execution_count": 70,
      "outputs": [
        {
          "output_type": "stream",
          "name": "stdout",
          "text": [
            "The first character of each string: ('S', 'L', 'A', 'Y', 'A', 'L', 'L', 'D', 'A', 'Y')\n"
          ]
        }
      ]
    },
    {
      "cell_type": "markdown",
      "source": [
        "10. (10б) Визначте список з числовими значеннями (і цілими, і з рухомою комою). а) Відфільтруйте всі числа, які діляться націло на 3 за допомогою вбудованої функції та анонімної функції в якості аргумента). Збережіть результат у змінній, не приводяти явно до будь-якого типу. б) Використовуючи результат на кроці 12.а у якості аргументу, та за допомогою лямбда-функції в якості іншого аргументу до вбудованої функції, додайте до кожного елементу число 1 та опісля зведіть у квадрат. Остаточний результат приведіть явно до списку та виведіть на екран."
      ],
      "metadata": {
        "id": "9fyUhXOoCtGp"
      }
    },
    {
      "cell_type": "code",
      "source": [
        "num_list = [5, 2.5, 6.66, 12, 1.234, 6, 10, 3]\n",
        "\n",
        "num_filter = filter(lambda num: num % 3 == 0 , num_list)\n",
        "\n",
        "num_power = list(map(lambda num: (num+1)**2, num_filter))\n",
        "\n",
        "print(\"The result:\", num_power)"
      ],
      "metadata": {
        "id": "exEx2_okCsql",
        "colab": {
          "base_uri": "https://localhost:8080/"
        },
        "outputId": "e4af6942-6252-494d-a88d-91d48f90632a"
      },
      "execution_count": 71,
      "outputs": [
        {
          "output_type": "stream",
          "name": "stdout",
          "text": [
            "The result: [169, 49, 16]\n"
          ]
        }
      ]
    },
    {
      "cell_type": "markdown",
      "source": [
        "# III. Decorators."
      ],
      "metadata": {
        "id": "o_x8cG_WC7jp"
      }
    },
    {
      "cell_type": "markdown",
      "source": [
        "11. (11б) Визначте декоратор, який би виводив у консоль повідомлення про початок роботи і назву функції (напр. my_function._ _ name _ _), а після відпрацювання функції - повідомлення про закінчення роботи і назву функції, що задекорована."
      ],
      "metadata": {
        "id": "mhxS4-mfC8LQ"
      }
    },
    {
      "cell_type": "code",
      "source": [
        "def decor(func):\n",
        "    def wrap(*args, **kwargs):\n",
        "        print(f\"Starting: {func.__name__}\")\n",
        "        res = func(*args, **kwargs)\n",
        "        print(f\"Finished: {func.__name__}\")\n",
        "        return res\n",
        "    return wrap\n",
        "\n",
        "@decor\n",
        "def my_function():\n",
        "    print(\"In my_function\")\n",
        "\n",
        "my_function()\n",
        "\n"
      ],
      "metadata": {
        "id": "srd1ygWjDGhO",
        "colab": {
          "base_uri": "https://localhost:8080/"
        },
        "outputId": "eed1ae4d-da0f-4bd1-bbe7-c3b2ea80f49f"
      },
      "execution_count": 72,
      "outputs": [
        {
          "output_type": "stream",
          "name": "stdout",
          "text": [
            "Starting: my_function\n",
            "In my_function\n",
            "Finished: my_function\n"
          ]
        }
      ]
    },
    {
      "cell_type": "markdown",
      "source": [
        "12. (4б) Задекоруйте двома різними способами функції з завдання 4 та 5 декоратором із завдання 11. (**УВАГА**: не декоруйте функції двічі!)."
      ],
      "metadata": {
        "id": "rxGZwVBiDph3"
      }
    },
    {
      "cell_type": "code",
      "source": [
        "def decor(func):\n",
        "    def wrap(*args, **kwargs):\n",
        "        print(f\"Starting: {func.__name__}\")\n",
        "        res = func(*args, **kwargs)\n",
        "        print(f\"Finished: {func.__name__}\")\n",
        "        return res\n",
        "    return wrap\n",
        "\n",
        "@decor\n",
        "def sub_two(first, second=1):\n",
        "    print(\"Inside sub_two\")\n",
        "    return first - second\n",
        "\n",
        "def divide_two(first, second):\n",
        "    print(\"Inside divide_two\")\n",
        "    if second == 0:\n",
        "        print(\"You can't divide by zero!\")\n",
        "        return\n",
        "    else:\n",
        "        return first / second\n",
        "\n",
        "decorated_divide_two = decor(divide_two)\n",
        "\n"
      ],
      "metadata": {
        "id": "06lj7eq_DwZe"
      },
      "execution_count": 73,
      "outputs": []
    },
    {
      "cell_type": "markdown",
      "source": [
        "13. (2б) Викличте одну з задекорованих функцій і виведіть її результат на екран."
      ],
      "metadata": {
        "id": "P0ep1urBDzf-"
      }
    },
    {
      "cell_type": "code",
      "source": [
        "def decor(func):\n",
        "    def wrap(*args, **kwargs):\n",
        "        print(f\"Starting: {func.__name__}\")\n",
        "        res = func(*args, **kwargs)\n",
        "        print(f\"Finished: {func.__name__}\")\n",
        "        return res\n",
        "    return wrap\n",
        "\n",
        "@decor\n",
        "def sub_two(first, second=1):\n",
        "    print(\"Inside sub_two\")\n",
        "    return first - second\n",
        "\n",
        "def divide_two(first, second):\n",
        "    print(\"Inside divide_two\")\n",
        "    if second == 0:\n",
        "        print(\"You can't divide by zero!\")\n",
        "        return\n",
        "    else:\n",
        "        return first / second\n",
        "\n",
        "decorated_divide_two = decor(divide_two)\n",
        "\n",
        "one = 34.33095975\n",
        "two = 1.03095975\n",
        "\n",
        "print(\"Dividing the first number by the second: \", decorated_divide_two(one, two))\n",
        "print(\"-----------\")\n",
        "print(\"Calling a function with one argument (must be first number minus 1): \", sub_two(one))\n",
        "print(\"-----------\")\n",
        "print(\"Calling a function with two arguments: \", sub_two(one, two))\n"
      ],
      "metadata": {
        "id": "1QvTw0ctD0S3",
        "colab": {
          "base_uri": "https://localhost:8080/"
        },
        "outputId": "26f6613f-f27b-4074-ca57-85c5612788ee"
      },
      "execution_count": 74,
      "outputs": [
        {
          "output_type": "stream",
          "name": "stdout",
          "text": [
            "Starting: divide_two\n",
            "Inside divide_two\n",
            "Finished: divide_two\n",
            "Dividing the first number by the second:  33.30000007274774\n",
            "-----------\n",
            "Starting: sub_two\n",
            "Inside sub_two\n",
            "Finished: sub_two\n",
            "Calling a function with one argument (must be first number minus 1):  33.33095975\n",
            "-----------\n",
            "Starting: sub_two\n",
            "Inside sub_two\n",
            "Finished: sub_two\n",
            "Calling a function with two arguments:  33.3\n"
          ]
        }
      ]
    },
    {
      "cell_type": "markdown",
      "source": [
        "# IV. Recursion."
      ],
      "metadata": {
        "id": "poECCpuoD2S9"
      }
    },
    {
      "cell_type": "markdown",
      "source": [
        "14. (4б) Назвіть дві частини функції, які є обовʼязковими для того, щоб називати її рекурсивною."
      ],
      "metadata": {
        "id": "DqkURfdsD7MY"
      }
    },
    {
      "cell_type": "markdown",
      "source": [
        "1. Виклик функції самої себе\n",
        "2. Базовий випадок або умова виходу з рекурсії"
      ],
      "metadata": {
        "id": "HYW6ttIeIQIU"
      }
    },
    {
      "cell_type": "markdown",
      "source": [
        "15. (15б) Визначте функцію, яка рекурсивно реалізовує пошук числа у послідовності Фібоначчі за її індексом (нумерація починається з нуля). Наприклад, потрібно знайти перше число у послідовності, тоді функція прийматиме 0 у якості аргумента і повертатиме 1, якщо ж знаходити третє число (індекс 2) послідовності, то функція повертатиме 2, якщо ж знаходити десяте число (індекс 9), то функція повертатиме 55."
      ],
      "metadata": {
        "id": "WYVt20UmEA35"
      }
    },
    {
      "cell_type": "code",
      "source": [
        "def fibo(num):\n",
        "  if num == 0 or num == 1:\n",
        "    return 1 #return num, якщо послідовність починається з нуля, а не з одиниці, як в завданні\n",
        "  else:\n",
        "    return fibo(num-1) + fibo(num-2)\n",
        "\n",
        "print(\"Перше число у послідовності:\", fibo(0))\n",
        "print(\"Третє число у послідовності:\", fibo(2))\n",
        "print(\"Десяте число у послідовності:\", fibo(9))\n",
        "print(\"П'ятнадцяте число у послідовності:\", fibo(14))\n",
        "print(\"Двадцять друге число у послідовності:\", fibo(21))\n",
        "\n"
      ],
      "metadata": {
        "id": "xIMhp05AIpV_",
        "colab": {
          "base_uri": "https://localhost:8080/"
        },
        "outputId": "f0127225-c9bb-42e4-b615-f4879e2b4a70"
      },
      "execution_count": 75,
      "outputs": [
        {
          "output_type": "stream",
          "name": "stdout",
          "text": [
            "Перше число у послідовності: 1\n",
            "Третє число у послідовності: 2\n",
            "Десяте число у послідовності: 55\n",
            "П'ятнадцяте число у послідовності: 610\n",
            "Двадцять друге число у послідовності: 17711\n"
          ]
        }
      ]
    },
    {
      "cell_type": "markdown",
      "source": [
        "# Вітаю! Ви велика(ий) молодець, що впоралась(вся). Похваліть себе та побалуйте чимось приємним. Я Вами пишаюся."
      ],
      "metadata": {
        "id": "ytXC8n_4Ip0W"
      }
    }
  ]
}