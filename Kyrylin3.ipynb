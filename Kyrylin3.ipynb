{
  "nbformat": 4,
  "nbformat_minor": 0,
  "metadata": {
    "colab": {
      "provenance": []
    },
    "kernelspec": {
      "name": "python3",
      "display_name": "Python 3"
    },
    "language_info": {
      "name": "python"
    }
  },
  "cells": [
    {
      "cell_type": "markdown",
      "source": [
        "# I. Оператори порівняння та логічні оператори. Умови."
      ],
      "metadata": {
        "id": "qDEi2Pi-4yUC"
      }
    },
    {
      "cell_type": "markdown",
      "source": [
        "1. Створіть цілочисленну змінну зі своїм щасливим або улюбленим числом. Напишіть код, який би автоматизовував наступну задачу.\n",
        "\n",
        "Якщо число парне, помножте його на 2 та виведіть результат на екран.\n",
        "\n",
        "Але якщо число непарне, помножте його на 3 та додайте 1 і виведіть на екран."
      ],
      "metadata": {
        "id": "3v8D4Dkm43Ua"
      }
    },
    {
      "cell_type": "code",
      "execution_count": 5,
      "metadata": {
        "id": "dlVjc-Nu4bmb",
        "colab": {
          "base_uri": "https://localhost:8080/"
        },
        "outputId": "ce236e97-cf1a-42ee-e7c3-e81caf932513"
      },
      "outputs": [
        {
          "output_type": "stream",
          "name": "stdout",
          "text": [
            "9034\n"
          ]
        }
      ],
      "source": [
        "my_number = 3011\n",
        "if my_number % 2 == 0:\n",
        "  my_number *= 2\n",
        "else:\n",
        "  my_number *= 3\n",
        "  my_number += 1\n",
        "\n",
        "print(my_number)"
      ]
    },
    {
      "cell_type": "markdown",
      "source": [
        "2. Створіть змінну, що посилається на список. Якщо список пустий, додайте будь-який елемент у кінець списку. Якщо ж ні, то нічого не робіть."
      ],
      "metadata": {
        "id": "H669P0QK5BI_"
      }
    },
    {
      "cell_type": "code",
      "source": [
        "list_2 = []\n",
        "\n",
        "if not list_2:\n",
        "  list_2.append(3011)\n",
        "\n",
        "print(\"List:\", list_2)\n"
      ],
      "metadata": {
        "id": "ecWlfra45f6E",
        "colab": {
          "base_uri": "https://localhost:8080/"
        },
        "outputId": "673a62d5-aaa2-4816-999f-a8df56b6d20b"
      },
      "execution_count": 6,
      "outputs": [
        {
          "output_type": "stream",
          "name": "stdout",
          "text": [
            "List: [3011]\n"
          ]
        }
      ]
    },
    {
      "cell_type": "markdown",
      "source": [
        "3. Створіть рядок зі своїм імʼям латинкою. Напишіть код, який би автоматизовував наступну задачу.\n",
        "\n",
        "Якщо в імені є літера \"а\"\n",
        " або \"i\", Виведіть на екран повідомлення \"A or I is in the name\".\n",
        "\n",
        "\n",
        "\n",
        "Якщо в імені є літери \"o\" та \"n\", Виведіть на екран повідомлення \"O and N is in the name\".\n",
        "\n",
        "Також якщо в імені немає літери \"о\", але є \"n\", Виведіть на екран повідомлення \"Only N is in the name\".\n",
        "\n",
        "В решті випадків виведіть на екран повідомлення \"There is no N in the name, but there might be O\".\n",
        "\n",
        "Зверніть увагу, що, наприклад, для імені \"Antonina\" буде виведено два повідомлення."
      ],
      "metadata": {
        "id": "h9Y3cMUd5h85"
      }
    },
    {
      "cell_type": "code",
      "source": [
        "my_name = \"Yehor\"\n",
        "name_lower = my_name.lower()\n",
        "if 'a' in name_lower or 'i' in name_lower:\n",
        "  print(\"A or I is in the name\")\n",
        "if 'o' in name_lower and 'n' in name_lower:\n",
        "  print(\"O and N are in the name\")\n",
        "elif 'o' not in name_lower or 'n' in name_lower:\n",
        "  print(\"Only N is in the name\")\n",
        "else:\n",
        "  print(\"There is no N in the name, but there might be O\")"
      ],
      "metadata": {
        "id": "bUH4LUx35u52",
        "colab": {
          "base_uri": "https://localhost:8080/"
        },
        "outputId": "43013e82-2718-41d9-d356-cc26cd343e8a"
      },
      "execution_count": 7,
      "outputs": [
        {
          "output_type": "stream",
          "name": "stdout",
          "text": [
            "There is no N in the name, but there might be O\n"
          ]
        }
      ]
    },
    {
      "cell_type": "markdown",
      "source": [
        "# II. Comprehensions."
      ],
      "metadata": {
        "id": "wPCXJv4354cU"
      }
    },
    {
      "cell_type": "markdown",
      "source": [
        "4. Створіть список, використовуючи if (не if-else), range та comprehension."
      ],
      "metadata": {
        "id": "jULLW5jN55Pw"
      }
    },
    {
      "cell_type": "code",
      "source": [
        "list_4 = [x * 100 + x * 10 + x for x in range(10) if x%2==1]\n",
        "print(\"List:\",list_4)"
      ],
      "metadata": {
        "id": "mlZalnVC6W3F",
        "colab": {
          "base_uri": "https://localhost:8080/"
        },
        "outputId": "31ca7578-1694-4682-ea75-98275716326b"
      },
      "execution_count": 8,
      "outputs": [
        {
          "output_type": "stream",
          "name": "stdout",
          "text": [
            "List: [111, 333, 555, 777, 999]\n"
          ]
        }
      ]
    },
    {
      "cell_type": "markdown",
      "source": [
        "5. Створіть словник, використовуючи dict comprehension, що містить if else. Коли слід використовувати comprehensions, а коли їх слід уникати?"
      ],
      "metadata": {
        "id": "LqhEQ4JW6XcC"
      }
    },
    {
      "cell_type": "code",
      "source": [
        "dict_5 = {x * 100 + x * 10 + x: 'odd' if x % 2 == 1 else 'even' for x in range(1,10)}\n",
        "print(\"Словник:\", dict_5)"
      ],
      "metadata": {
        "id": "1yVaFbOs6hta",
        "colab": {
          "base_uri": "https://localhost:8080/"
        },
        "outputId": "0956b019-78b3-44c9-90e7-c5278d440dd5"
      },
      "execution_count": 9,
      "outputs": [
        {
          "output_type": "stream",
          "name": "stdout",
          "text": [
            "Словник: {111: 'odd', 222: 'even', 333: 'odd', 444: 'even', 555: 'odd', 666: 'even', 777: 'odd', 888: 'even', 999: 'odd'}\n"
          ]
        }
      ]
    },
    {
      "cell_type": "markdown",
      "source": [
        "Коли слід використовувати comprehensions:\n",
        "- для перетворення вже існуючих даних;\n",
        "- для фільтрації даних за певною умовою;\n",
        "- для виконання коротких операцій над кожним елементом в послідовності.\n",
        "\n",
        "Коли не слід використовувати comprehensions:\n",
        "- для великого обсягу даних;\n",
        "- для великих умов, а відповідно, складних і великих за обсягом comprehensions;\n",
        "- для складних і неочевидних обчислень."
      ],
      "metadata": {
        "id": "wbkzNhKq6hzz"
      }
    },
    {
      "cell_type": "markdown",
      "source": [
        "6. Створіть список з рядками та запишіть його у змінну. Створіть ще один список на основі попереднього, де кожен рядок буде містити тільки три перших заглавних символи. Наприклад: ['hello', 'i', 'dont', 'care'] -> ['HEL', 'I', 'DON', 'CAR']. Використання comprehensions обовʼязкове."
      ],
      "metadata": {
        "id": "ZlqB8G3G6lHP"
      }
    },
    {
      "cell_type": "code",
      "source": [
        "list_6 = [\"hello\",\"i\",\"dont\",\"care\"]\n",
        "list_61 = [word[:3].upper() for word in list_6]\n",
        "print(\"New list:\", list_61)"
      ],
      "metadata": {
        "id": "nw6rz0bR60VC",
        "colab": {
          "base_uri": "https://localhost:8080/"
        },
        "outputId": "875f5300-bf78-4c81-c70f-9e0d9a2a6c84"
      },
      "execution_count": 10,
      "outputs": [
        {
          "output_type": "stream",
          "name": "stdout",
          "text": [
            "New list: ['HEL', 'I', 'DON', 'CAR']\n"
          ]
        }
      ]
    },
    {
      "cell_type": "markdown",
      "source": [
        "# III. Цикли."
      ],
      "metadata": {
        "id": "Tj573IAH64Fz"
      }
    },
    {
      "cell_type": "markdown",
      "source": [
        "7. Продемонструйте роботу циклу while. Не можна використовувати True для запуску циклу, щоб уникнути безкінечного циклу!"
      ],
      "metadata": {
        "id": "tN_33xdE65H5"
      }
    },
    {
      "cell_type": "code",
      "source": [
        "num_7 = 9\n",
        "while num_7 > 0:\n",
        "  print(num_7*100+num_7*10+num_7)\n",
        "  num_7 -= 1"
      ],
      "metadata": {
        "id": "Kd9FO6yG63P5",
        "colab": {
          "base_uri": "https://localhost:8080/"
        },
        "outputId": "74b2024c-6f30-4e28-856b-4e46d87d3e2e"
      },
      "execution_count": 11,
      "outputs": [
        {
          "output_type": "stream",
          "name": "stdout",
          "text": [
            "999\n",
            "888\n",
            "777\n",
            "666\n",
            "555\n",
            "444\n",
            "333\n",
            "222\n",
            "111\n"
          ]
        }
      ]
    },
    {
      "cell_type": "markdown",
      "source": [
        "8. Напишіть програму, яка виведе на екран непарні числа в діапазоні від 0 до 20 включно."
      ],
      "metadata": {
        "id": "x2CmfZO-7pW0"
      }
    },
    {
      "cell_type": "code",
      "source": [
        "for nums in range(21):\n",
        "  if not nums % 2 == 0:\n",
        "    print(nums)"
      ],
      "metadata": {
        "id": "aCSRYA6s7tkF",
        "colab": {
          "base_uri": "https://localhost:8080/"
        },
        "outputId": "570e0095-017d-4c77-975c-ca42bb69a3a1"
      },
      "execution_count": 12,
      "outputs": [
        {
          "output_type": "stream",
          "name": "stdout",
          "text": [
            "1\n",
            "3\n",
            "5\n",
            "7\n",
            "9\n",
            "11\n",
            "13\n",
            "15\n",
            "17\n",
            "19\n"
          ]
        }
      ]
    },
    {
      "cell_type": "markdown",
      "source": [
        "9. Створіть список з елементами булевого типу або None. Використовуючи цикли, отримайте в результаті список з кортежами, де перший елемент кортежу - індекс(ціле число), а другий елемент - відповідне значення з першого списку.\n",
        "\n",
        "Наприклад, [True, True, None, False] -> [(0, True), (1, True), (2, None), (3, False)]"
      ],
      "metadata": {
        "id": "MDWNocZD7t_B"
      }
    },
    {
      "cell_type": "code",
      "source": [
        "list_9 = [True,False,None,True,False,True,None,True]\n",
        "index = 0\n",
        "while index != len(list_9):\n",
        "  list_9[index] = (index,list_9[index])\n",
        "  index+=1\n",
        "print(\"New list:\", list_9)"
      ],
      "metadata": {
        "id": "0EUyjMdp7yfh",
        "colab": {
          "base_uri": "https://localhost:8080/"
        },
        "outputId": "e7171fba-8ed2-4722-ac12-af6266d9d029"
      },
      "execution_count": 8,
      "outputs": [
        {
          "output_type": "stream",
          "name": "stdout",
          "text": [
            "New list: [(0, True), (1, False), (2, None), (3, True), (4, False), (5, True), (6, None), (7, True)]\n"
          ]
        }
      ]
    },
    {
      "cell_type": "markdown",
      "source": [
        "10. Створіть словник, де ключі - назви книжок, а значення - їхня кількість у наявності в Вашій міні-бібліотеці. Бібліотека має містити щонайменше 6 книжок (6 пар значень у словнику) і щонайбільше 10 (пар значень). Використовуючи цикли, оновіть словник (не створюйте новий) так, щоби кількість книг у наявності збільшилося на 5 кожної книги. Наприклад,\n",
        "{'It': 3, 'Fault stars': 10, 'Bible': 17, 'Psychological romance': 4, 'Harry Potter': 13} -> {'It': 8, 'Fault stars': 15, 'Bible': 22, 'Psychological romance': 9, 'Harry Potter': 18}"
      ],
      "metadata": {
        "id": "-6XUqlcG7zKs"
      }
    },
    {
      "cell_type": "code",
      "source": [
        "dict_10 = {\"The Silver Eyes\":2, \"The Twisted Ones\":4, \"The Fourth Closet\":10, \"Red, White and Royal Blue\":1, \"Sapiens: a Brief History of Humankind\":13, \"The Guest List\":3, \"New Life\":7, \"The Last Hero of Let's Stick Together\":328}\n",
        "print (\"Dictionary:\",dict_10)\n",
        "if 6 <= len(dict_10) <= 10:\n",
        "    for book in dict_10:\n",
        "      dict_10[book]+=5\n",
        "    print (\"New dictionary:\",dict_10)\n",
        "else:\n",
        "  print(\"The list size must be between 6 and 10\")"
      ],
      "metadata": {
        "id": "Ceoj9wwb791q",
        "colab": {
          "base_uri": "https://localhost:8080/"
        },
        "outputId": "4783a529-63e0-4f90-9fba-47ae6952b613"
      },
      "execution_count": 23,
      "outputs": [
        {
          "output_type": "stream",
          "name": "stdout",
          "text": [
            "Dictionary: {'The Silver Eyes': 2, 'The Twisted Ones': 4, 'The Fourth Closet': 10, 'Red, White and Royal Blue': 1, 'Sapiens: a Brief History of Humankind': 13, 'The Guest List': 3, 'New Life': 7, \"The Last Hero of Let's Stick Together\": 328}\n",
            "New dictionary: {'The Silver Eyes': 7, 'The Twisted Ones': 9, 'The Fourth Closet': 15, 'Red, White and Royal Blue': 6, 'Sapiens: a Brief History of Humankind': 18, 'The Guest List': 8, 'New Life': 12, \"The Last Hero of Let's Stick Together\": 333}\n"
          ]
        }
      ]
    },
    {
      "cell_type": "markdown",
      "source": [
        "11. Визначте цілочислену змінну n, що належить проміжку від 4 до 10 включно. Використовуючи цикли, виведіть в консоль наступний патерн.\n",
        "\n",
        "#\n",
        "##\n",
        "###\n",
        "####\n",
        "\n",
        "... #*n\n"
      ],
      "metadata": {
        "id": "QLzyJM288AC7"
      }
    },
    {
      "cell_type": "code",
      "source": [
        "while True:\n",
        "  rows = int(input(\"How many rows?\"))\n",
        "  if 4 <= rows <= 10:\n",
        "    count=1\n",
        "    while count <= rows:\n",
        "      print('#'*count)\n",
        "      count+=1\n",
        "    break\n",
        "  else:\n",
        "    print(\"Number must be bigger than 4 and less than 10\")"
      ],
      "metadata": {
        "id": "KOpng87s8Duz",
        "colab": {
          "base_uri": "https://localhost:8080/"
        },
        "outputId": "8fd54420-c04a-48e5-d03f-5c4202a2d175"
      },
      "execution_count": 14,
      "outputs": [
        {
          "output_type": "stream",
          "name": "stdout",
          "text": [
            "How many rows?3\n",
            "Number must be bigger than 4 and less than 10\n",
            "How many rows?7\n",
            "#\n",
            "##\n",
            "###\n",
            "####\n",
            "#####\n",
            "######\n",
            "#######\n"
          ]
        }
      ]
    },
    {
      "cell_type": "markdown",
      "source": [
        "12. Гра \"Нумо вгадай\".\n",
        "Розробіть просту гру, де користувач має вгадати випадкове число від 1 до 100. Для генерації випадкового числа використовуйте функцію random.randint(a, b) (тут a та b включно). Для отримання числа з консолі використовуйте функцію input(), результат якої обовʼязково явно приведіть до типу int.\n",
        "\n",
        "Підказка: використовуйте цикл while та умови if-else, щоб повідомити користувачу піказки (напр. \"Більше\", \"Менше\") поки користувач не вгадає. По завершенню виведіть кількість спроб, які знадобилися для вгадування."
      ],
      "metadata": {
        "id": "_bd-bqAT8EHn"
      }
    },
    {
      "cell_type": "code",
      "source": [
        "import random\n",
        "random_number = random.randint(1,100)\n",
        "\n",
        "counter = 0\n",
        "\n",
        "while True:\n",
        "  guess_number = int(input(\"Enter number:\"))\n",
        "  counter+=1\n",
        "  if guess_number > random_number:\n",
        "    print(\"Less\")\n",
        "  elif guess_number < random_number:\n",
        "    print(\"More\")\n",
        "  else:\n",
        "    print(\"You guessed it! The number is:\", random_number, \", and it took you\",counter, \"attempts to guess it!\")\n",
        "    break\n"
      ],
      "metadata": {
        "id": "IK9nnxFK8Hkl",
        "colab": {
          "base_uri": "https://localhost:8080/"
        },
        "outputId": "6f73fdd8-0f81-4f0b-d423-08e9087311fc"
      },
      "execution_count": 13,
      "outputs": [
        {
          "output_type": "stream",
          "name": "stdout",
          "text": [
            "Enter number:50\n",
            "More\n",
            "Enter number:75\n",
            "Less\n",
            "Enter number:62\n",
            "Less\n",
            "Enter number:56\n",
            "Less\n",
            "Enter number:53\n",
            "Less\n",
            "Enter number:52\n",
            "Less\n",
            "Enter number:51\n",
            "You guessed it! The number is: 51 , and it took you 7 attempts to guess it!\n"
          ]
        }
      ]
    },
    {
      "cell_type": "markdown",
      "source": [
        "# Вітаю! Ви велика(ий) молодець, що впоралась(вся). Похваліть себе та побалуйте чимось приємним. Я Вами пишаюся."
      ],
      "metadata": {
        "id": "PXoXWb7Z8IGi"
      }
    }
  ]
}